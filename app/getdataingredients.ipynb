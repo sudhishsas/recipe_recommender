{
 "cells": [
  {
   "cell_type": "code",
   "execution_count": 3,
   "metadata": {},
   "outputs": [],
   "source": [
    "import numpy as np\n",
    "import pandas as pd \n",
    "import logging\n",
    "\n",
    "from gensim.models import Word2Vec\n",
    "\n",
    "\n",
    "from words_parser import ingredient_parser"
   ]
  },
  {
   "cell_type": "code",
   "execution_count": 7,
   "metadata": {},
   "outputs": [
    {
     "data": {
      "text/html": [
       "<div>\n",
       "<style scoped>\n",
       "    .dataframe tbody tr th:only-of-type {\n",
       "        vertical-align: middle;\n",
       "    }\n",
       "\n",
       "    .dataframe tbody tr th {\n",
       "        vertical-align: top;\n",
       "    }\n",
       "\n",
       "    .dataframe thead th {\n",
       "        text-align: right;\n",
       "    }\n",
       "</style>\n",
       "<table border=\"1\" class=\"dataframe\">\n",
       "  <thead>\n",
       "    <tr style=\"text-align: right;\">\n",
       "      <th></th>\n",
       "      <th>RecipeId</th>\n",
       "      <th>Name</th>\n",
       "      <th>CookTime</th>\n",
       "      <th>RecipeCategory</th>\n",
       "      <th>Keywords</th>\n",
       "      <th>RecipeIngredientParts</th>\n",
       "      <th>Calories</th>\n",
       "      <th>FatContent</th>\n",
       "      <th>CholesterolContent</th>\n",
       "      <th>SodiumContent</th>\n",
       "      <th>SugarContent</th>\n",
       "      <th>ProteinContent</th>\n",
       "      <th>RecipeInstructions</th>\n",
       "      <th>parsed_ingredients</th>\n",
       "    </tr>\n",
       "  </thead>\n",
       "  <tbody>\n",
       "    <tr>\n",
       "      <th>0</th>\n",
       "      <td>38</td>\n",
       "      <td>Low-Fat Berry Blue Frozen Dessert</td>\n",
       "      <td>PT24H</td>\n",
       "      <td>Frozen Desserts</td>\n",
       "      <td>['Dessert','Low Protein','Low Cholesterol','He...</td>\n",
       "      <td>['blueberries','granulated sugar','vanilla yog...</td>\n",
       "      <td>170.9</td>\n",
       "      <td>2.5</td>\n",
       "      <td>8.0</td>\n",
       "      <td>29.8</td>\n",
       "      <td>30.2</td>\n",
       "      <td>3.2</td>\n",
       "      <td>[Toss 2 cups berries with sugar., Let stand fo...</td>\n",
       "      <td>[blueberry, granulated sugar, vanilla yogurt, ...</td>\n",
       "    </tr>\n",
       "    <tr>\n",
       "      <th>1</th>\n",
       "      <td>39</td>\n",
       "      <td>Biryani</td>\n",
       "      <td>PT25M</td>\n",
       "      <td>Chicken Breast</td>\n",
       "      <td>['Chicken Thigh &amp; Leg','Chicken','Poultry','Me...</td>\n",
       "      <td>['saffron','milk','hot green chili peppers','o...</td>\n",
       "      <td>1110.7</td>\n",
       "      <td>58.8</td>\n",
       "      <td>372.8</td>\n",
       "      <td>368.4</td>\n",
       "      <td>20.4</td>\n",
       "      <td>63.4</td>\n",
       "      <td>[Soak saffron in warm milk for 5 minutes and p...</td>\n",
       "      <td>[saffron, milk, chili, onion, clove, peppercor...</td>\n",
       "    </tr>\n",
       "    <tr>\n",
       "      <th>2</th>\n",
       "      <td>40</td>\n",
       "      <td>Best Lemonade</td>\n",
       "      <td>PT5M</td>\n",
       "      <td>Beverages</td>\n",
       "      <td>['Low Protein','Low Cholesterol','Healthy','Su...</td>\n",
       "      <td>['sugar','lemons','rind of','lemon','zest of',...</td>\n",
       "      <td>311.1</td>\n",
       "      <td>0.2</td>\n",
       "      <td>0.0</td>\n",
       "      <td>1.8</td>\n",
       "      <td>77.2</td>\n",
       "      <td>0.3</td>\n",
       "      <td>[Into a 1 quart Jar with tight fitting lid, pu...</td>\n",
       "      <td>[sugar, lemon, lemon, lemon juice]</td>\n",
       "    </tr>\n",
       "    <tr>\n",
       "      <th>3</th>\n",
       "      <td>41</td>\n",
       "      <td>Carina's Tofu-Vegetable Kebabs</td>\n",
       "      <td>PT20M</td>\n",
       "      <td>Soy/Tofu</td>\n",
       "      <td>['Beans','Vegetable','Low Cholesterol','Weekni...</td>\n",
       "      <td>['extra firm tofu','eggplant','zucchini','mush...</td>\n",
       "      <td>536.1</td>\n",
       "      <td>24.0</td>\n",
       "      <td>0.0</td>\n",
       "      <td>1558.6</td>\n",
       "      <td>32.1</td>\n",
       "      <td>29.3</td>\n",
       "      <td>[Drain the tofu, carefully squeezing out exces...</td>\n",
       "      <td>[tofu, eggplant, zucchini, mushroom, soy sauce...</td>\n",
       "    </tr>\n",
       "    <tr>\n",
       "      <th>4</th>\n",
       "      <td>42</td>\n",
       "      <td>Cabbage Soup</td>\n",
       "      <td>PT30M</td>\n",
       "      <td>Vegetable</td>\n",
       "      <td>['Low Protein','Vegan','Low Cholesterol','Heal...</td>\n",
       "      <td>['plain tomato juice','cabbage','onion','carro...</td>\n",
       "      <td>103.6</td>\n",
       "      <td>0.4</td>\n",
       "      <td>0.0</td>\n",
       "      <td>959.3</td>\n",
       "      <td>17.7</td>\n",
       "      <td>4.3</td>\n",
       "      <td>[Mix everything together and bring to a boil.,...</td>\n",
       "      <td>[tomato juice, cabbage, onion, carrot, celery]</td>\n",
       "    </tr>\n",
       "  </tbody>\n",
       "</table>\n",
       "</div>"
      ],
      "text/plain": [
       "   RecipeId                               Name CookTime   RecipeCategory  \\\n",
       "0        38  Low-Fat Berry Blue Frozen Dessert    PT24H  Frozen Desserts   \n",
       "1        39                            Biryani    PT25M   Chicken Breast   \n",
       "2        40                      Best Lemonade     PT5M        Beverages   \n",
       "3        41     Carina's Tofu-Vegetable Kebabs    PT20M         Soy/Tofu   \n",
       "4        42                       Cabbage Soup    PT30M        Vegetable   \n",
       "\n",
       "                                            Keywords  \\\n",
       "0  ['Dessert','Low Protein','Low Cholesterol','He...   \n",
       "1  ['Chicken Thigh & Leg','Chicken','Poultry','Me...   \n",
       "2  ['Low Protein','Low Cholesterol','Healthy','Su...   \n",
       "3  ['Beans','Vegetable','Low Cholesterol','Weekni...   \n",
       "4  ['Low Protein','Vegan','Low Cholesterol','Heal...   \n",
       "\n",
       "                               RecipeIngredientParts  Calories  FatContent  \\\n",
       "0  ['blueberries','granulated sugar','vanilla yog...     170.9         2.5   \n",
       "1  ['saffron','milk','hot green chili peppers','o...    1110.7        58.8   \n",
       "2  ['sugar','lemons','rind of','lemon','zest of',...     311.1         0.2   \n",
       "3  ['extra firm tofu','eggplant','zucchini','mush...     536.1        24.0   \n",
       "4  ['plain tomato juice','cabbage','onion','carro...     103.6         0.4   \n",
       "\n",
       "   CholesterolContent  SodiumContent  SugarContent  ProteinContent  \\\n",
       "0                 8.0           29.8          30.2             3.2   \n",
       "1               372.8          368.4          20.4            63.4   \n",
       "2                 0.0            1.8          77.2             0.3   \n",
       "3                 0.0         1558.6          32.1            29.3   \n",
       "4                 0.0          959.3          17.7             4.3   \n",
       "\n",
       "                                  RecipeInstructions  \\\n",
       "0  [Toss 2 cups berries with sugar., Let stand fo...   \n",
       "1  [Soak saffron in warm milk for 5 minutes and p...   \n",
       "2  [Into a 1 quart Jar with tight fitting lid, pu...   \n",
       "3  [Drain the tofu, carefully squeezing out exces...   \n",
       "4  [Mix everything together and bring to a boil.,...   \n",
       "\n",
       "                                  parsed_ingredients  \n",
       "0  [blueberry, granulated sugar, vanilla yogurt, ...  \n",
       "1  [saffron, milk, chili, onion, clove, peppercor...  \n",
       "2                 [sugar, lemon, lemon, lemon juice]  \n",
       "3  [tofu, eggplant, zucchini, mushroom, soy sauce...  \n",
       "4     [tomato juice, cabbage, onion, carrot, celery]  "
      ]
     },
     "execution_count": 7,
     "metadata": {},
     "output_type": "execute_result"
    }
   ],
   "source": [
    " \n",
    "data = pd.read_csv(r'C:\\xampp\\htdocs\\3161Database files\\recipe_recommender\\app\\csvfiles\\parsed_recipesv4.csv')\n",
    "data['parsed_ingredients'] = data.RecipeIngredientParts.apply(ingredient_parser)\n",
    "data.head()"
   ]
  },
  {
   "cell_type": "code",
   "execution_count": 75,
   "metadata": {},
   "outputs": [
    {
     "name": "stdout",
     "output_type": "stream",
     "text": [
      "Length of ingreds: 5000\n"
     ]
    }
   ],
   "source": [
    "# get corpus with the documents sorted in alphabetical order\n",
    "def get_and_sort_ingr(data):\n",
    "    ingreds_sorted = []\n",
    "    for doc in data.parsed_ingredients.values:\n",
    "        ingreds_sorted.append(doc)\n",
    "    return ingreds_sorted\n",
    "\n",
    "ingreds = get_and_sort_ingr(data[:5000])\n",
    "#for i in ingreds:\n",
    "#    print(i)\n",
    "print(f\"Length of ingreds: {len(ingreds)}\")"
   ]
  },
  {
   "cell_type": "code",
   "execution_count": 77,
   "metadata": {},
   "outputs": [
    {
     "name": "stdout",
     "output_type": "stream",
     "text": [
      "1250\n",
      "6\n"
     ]
    },
    {
     "data": {
      "text/plain": [
       "6.3038"
      ]
     },
     "execution_count": 77,
     "metadata": {},
     "output_type": "execute_result"
    }
   ],
   "source": [
    "thirdofcorpus = round(len(ingreds)*.25)\n",
    "#print(len(ingreds))\n",
    "print(len(ingreds[:thirdofcorpus]))\n",
    "\n",
    "lengths = [len(doc) for doc in ingreds]\n",
    "print(round(sum(lengths)/len(lengths)))\n",
    "avg_len = float(sum(lengths)) / len(lengths)\n",
    "avg_len\n"
   ]
  },
  {
   "cell_type": "code",
   "execution_count": 80,
   "metadata": {},
   "outputs": [],
   "source": [
    "# train word2vec model \n",
    "sg = 0 # CBOW: build a language model that correctly predicts the center word given the context words in which the center word appears\n",
    "workers = 8 # number of CPUs\n",
    "window = 6 # window size: average length of each document \n",
    "min_count = 1 # unique ingredients are important to decide recipes \n",
    "\n",
    "model_cbow = Word2Vec(ingreds, sg=sg, workers=workers, window=window, min_count=min_count, vector_size=100)"
   ]
  },
  {
   "cell_type": "code",
   "execution_count": 81,
   "metadata": {},
   "outputs": [
    {
     "name": "stdout",
     "output_type": "stream",
     "text": [
      "Word2Vec<vocab=1239, vector_size=100, alpha=0.025>\n",
      "['accent', 'achar', 'acinus di pepe pasta', 'acorn squash', 'adobo sauce', 'adzuki bean', 'albacore tuna', 'ale', 'alfredo sauce', 'allspice', 'allspice berry', 'alphabet pasta', 'alum', 'amaretti cookie', 'amaretto', 'amaretto liqueur', 'american cheese', 'american cheese spread', 'amish friendship starter', 'anaheim chili', 'anaheim chilies', 'ancho chile', 'ancho chilies', 'andouille sausage', 'angel coconut', 'angel hair pasta', 'apple', 'apple butter', 'apple pie', 'apple vinegar', 'applesauce', 'apricot', 'apricot gelatin', 'apricot puree', 'arbol chile', 'arborio rice', 'arrowroot', 'artichoke', 'artichoke heart', 'artificial sweetener', 'artificial vanilla flavoring', 'arugula', 'asiago cheese', 'asparagus', 'asparagus spear', 'atlantic salmon fillet', 'aubergine', 'aunt janes krazy up', 'avocado', 'avocado dip', 'back bacon', 'bacon', 'bacon bit', 'bacon dripping', 'bacon grease', 'bagel', 'baguette', 'baked ham', 'baker chocolate', 'bamboo shoot', 'banana', 'banana pudding', 'barbecue sauce', 'barbecued chicken', 'barbecued pork', 'bark', 'barley', 'bartlett pear', 'basil', 'bass fillet', 'bean', 'bean sprout', 'bechamel sauce', 'beef', 'beef brisket', 'beef broth', 'beef burger', 'beef chuck', 'beef chuck pot', 'beef dripping', 'beef eye', 'beef granule', 'beef liver', 'beef mince', 'beef rib', 'beef rump', 'beef schnitzel', 'beef short rib', 'beef sirloin', 'beef sirloin steak', 'beef steak', 'beef stew meat', 'beef suet', 'beef tenderloin', 'beef tenderloin steak', 'beef tip steak', 'beef top loin steak', 'beef top sirloin steak', 'beef top steak', 'beef wiener', 'beer', 'beet', 'beetroot', 'belgian endive', 'bell', 'berbere', 'berry', 'berry cranberry sauce', 'besan', 'best food mayonnaise', 'bibb lettuce', 'bicarbonate soda', 'bing cherry', 'bird custard', 'biscuit', 'bisquick', 'bittersweet chocolate', 'bittersweet chocolate chip', 'blackberry', 'blackstrap molasses', 'bliss potato', 'blood orange', 'blue cheese', 'blue grape', 'blueberry', 'bock beer', 'boil bag rice', 'bok choy', 'bosc pear', 'boston lettuce', 'bottled', 'bottled chili sauce', 'bottled clam broth', 'bottled clam juice', 'bottled lemon juice', 'bottom beef', 'bouquet garni', 'bourbon', 'bow tie pasta', 'brandy', 'braunschweiger sausage', 'brazil', 'bread butter pickle', 'bread flour', 'bread machine yeast', 'breakfast sausage', 'breakfast sausage patty', 'brewed coffee', 'broad bean', 'broccoli', 'broccoli slaw', 'broiler chicken', 'broiler fryer chicken', 'broth', 'brussels sprout', 'buckwheat flour', 'buckwheat groat', 'buckwheat noodle', 'budweiser beer', 'bulgar wheat', 'bulgur', 'burgundy wine', 'butter', 'butter bean', 'butter flavor shortening', 'butter lettuce', 'buttermilk', 'butterscotch pudding', 'button mushroom', 'cabbage', 'cabrales cheese', 'cajun stewed tomato', 'cake flour', 'cake pastry flour', 'cake yeast', 'calf liver', 'california walnut', 'calorie margarine', 'calorie mayonnaise', 'calorie soy sauce', 'calvados', 'camembert cheese', 'campden tablet', 'canadian bacon', 'candied citron peel', 'candied date', 'candied ginger', 'candied lemon peel', 'cannellini', 'cannellini bean', 'canning', 'cannonball cabbage', 'cantaloupe', 'cantonese pork', 'capsicum', 'capsicum salsa', 'caraway', 'cardamom', 'carnation evaporated milk', 'carrot', 'cashew', 'cashew paste', 'caster sugar', 'catfish fillet', 'catsup', 'cauliflower', 'caviar', 'celeriac', 'celery', 'celery heart', 'celery rib', 'celery top', 'center pork chop', 'cento tomato', 'chambord raspberry liquor', 'champagne vinegar', 'champignon mushroom', 'channa dal', 'chat masala', 'chayote', 'chayotes', 'cheddar', 'cheddar cheese', 'cheese', 'cheese spread', 'cheese whiz', 'cherry', 'cherry gelatin', 'cherry juice', 'cherry pie filling', 'cherry syrup', 'cherry tomato', 'chervil', 'chicken', 'chicken breast', 'chicken breast fillet', 'chicken broth', 'chicken broth soup', 'chicken curry', 'chicken cutlet', 'chicken drumstick', 'chicken fillet', 'chicken flavor', 'chicken flavored sauce', 'chicken giblet', 'chicken granule', 'chicken gumbo soup', 'chicken liver', 'chicken meat', 'chicken neck', 'chicken portion', 'chicken stove top stuffing', 'chicken tenderloin', 'chicken thigh', 'chicken thigh fillet', 'chicken wing', 'chickpea', 'chile', 'chile honey', 'chile salsa', 'chili', 'chili bean', 'chili bean paste', 'chili salsa', 'chili sauce', 'chilies', 'chinese', 'chinese cabbage', 'chinese chili sauce', 'chinese eggplant', 'chinese fish sauce', 'chinese five', 'chinese wine', 'chipotle', 'chipotle chile', 'chipotle chile adobo', 'chive', 'chocolate', 'chocolate bar', 'chocolate chip', 'chocolate curl', 'chocolate flavor pudding pie filling', 'chocolate graham cracker', 'chocolate ice cream', 'chocolate milk', 'chocolate pudding', 'chocolate square', 'chorizo sausage', 'chunky applesauce', 'chunky peanut butter', 'chunky salsa', 'chutney', 'chutney sauce', 'citron', 'clam', 'claras basic meatball', 'classico alfredo tomato', 'clear honey', 'clove', 'coarse', 'coarse grain', 'coarse onion', 'cocoa', 'coconut', 'coconut butter', 'coconut cream pudding', 'coconut meat', 'coconut milk', 'cod', 'cod fish fillet', 'coffee', 'coffee bean', 'coffee creamer', 'coffee granule', 'coffee ice cream', 'cognac', 'cointreau liqueur', 'colby', 'colby cheese', 'colby monterey jack cheese', 'colored marshmallow', 'commercial chicken broth', 'compressed yeast', 'concord grape', 'confectioner sugar', 'contadina tomato paste', 'converted rice', 'cooky cream ice cream', 'cool whip', 'cool whip topping', 'coriander', 'corned beef', 'corned beef brisket', 'cornflour', 'cornmeal', 'cornstarch', 'cotija cheese', 'country', 'country pork rib', 'courgette', 'court', 'couscous', 'crab', 'crab meat', 'crabmeat', 'cracked', 'craisin', 'craisins', 'cranberry', 'cranberry bean', 'cranberry jelly', 'cranberry juice', 'cranberry juice cocktail', 'cranberry sauce', 'crawfish', 'crayfish tail', 'cream', 'cream cheese', 'cream coconut', 'cream tartar', 'creamed shortening', 'creamed spinach', 'creamy butter', 'creamy peanut butter', 'creme de cacao', 'creme de menthe', 'cremini mushroom', 'creole', 'creole rice', 'crisco shortening', 'crisp bacon', 'crouton', 'crunchy peanut butter', 'crystallized ginger', 'cubanelle', 'cucumber', 'curacao', 'curcumae', 'curd cheese', 'cured', 'currant', 'currant jelly', 'curry', 'curry paste', 'custard', 'cutlet halibut', 'cutlet monkfish', 'date', 'decaffeinated coffee', 'del monte tomato chilies', 'deli ham', 'delicious apple', 'demerara sugar', 'dessert pear', 'dessert tofu', 'distilled vinegar', 'domestic mushroom', 'double acting', 'duck', 'duckling', 'dutch apple', 'dutch rusk', 'edam cheese', 'egg', 'egg beater egg substitute', 'egg substitute', 'egg tomato', 'egg yolk', 'eggplant', 'el patio jalapeno chili sauce', 'elbow macaroni', 'elderberry juice', 'elderflower', 'endive', 'ener egg substitute', 'enriched rice', 'epazote', 'equal sugar substitute', 'escarole', 'espresso coffee', 'european cucumber', 'evaporated milk', 'eyed pea', 'fantastic food vegetarian chili', 'farina', 'farmer cheese', 'fast rise yeast', 'fast rising yeast', 'fatty bacon', 'fava bean', 'fenugreek', 'feta', 'feta cheese', 'fettuccine', 'fettuccine pasta', 'fig', 'filet beef', 'fillet', 'fillet sole', 'filo pastry', 'filter coffee', 'first brisket beef', 'fish fumet', 'fish sauce', 'five', 'flaked coconut', 'flavored', 'flavored crouton', 'flavored liqueur', 'flavored pam', 'flavored vegetable', 'flax', 'fleischmanns margarine', 'florida grapefruit juice', 'flounder fillet', 'flour', 'flour tortilla', 'floury potato', 'fontina', 'frisee', 'fruit chutney', 'fry', 'fryer chicken', 'funghi porcini', 'fuyu persimmon', 'galangal', 'garbanzo bean', 'gelatin', 'georgia pecan', 'ginger', 'ginger ale', 'ginger juice', 'ginger paste', 'ginger wine', 'gingerroot', 'glace de viande', 'glace ginger', 'glace pear', 'gluten', 'glutinous rice', 'gorgonzola', 'gouda cheese', 'graham cracker', 'graham cracker pie', 'grain bread flour', 'grain rice', 'grainy', 'grand marnier', 'granny smith apple', 'granola cereal', 'granola type cereal', 'granulated sugar', 'grape', 'grape gelatin', 'grape tomato', 'grapefruit', 'grapefruit juice', 'grapefruit section', 'great northern bean', 'greek', 'greek feta cheese', 'grey poupon', 'grit', 'gruyere', 'gruyere cheese', 'guava', 'gumbo file', 'habanero', 'haddock fillet', 'halibut fillet', 'halibut steak', 'halloumi cheese', 'ham', 'ham hock', 'ham steak', 'hamburger', 'hamburger meat', 'hard apple', 'hard boiled egg', 'harusame noodle', 'hash', 'hash potato', 'hazelnut', 'heinz chili sauce', 'hellmanns mayonnaise', 'herdez salsa', 'herring fillet', 'hickory', 'hickory flavored barbecue sauce', 'hoisin sauce', 'homemade pie', 'hominy', 'honey', 'honey molasses', 'honeydew melon', 'horseradish', 'huckleberry', 'hungarian', 'hungry jack cheesy scalloped potato', 'hunt ready tomato sauce chunky special', 'hunt tomato paste', 'hunt tomato sauce', 'i cant believe it not butter', 'i cant believe it not spread', 'ice cream', 'iceberg lettuce', 'icing sugar', 'idaho potato', 'imitation bacon bit', 'imported soy sauce', 'irish cream liqueur', 'irish potato', 'jaggery', 'jalapeno chile', 'jalapeno chilie', 'jalapeno chilies', 'jalapeno jack cheese', 'japanese eggplant', 'japanese sake', 'japanese soy sauce', 'jeera', 'jell o chocolate pudding pie filling', 'jellied cranberry sauce', 'jello lemon pudding', 'jicama', 'jonathan apple', 'joule gelatin', 'juice', 'kaffir lime', 'kahlua', 'kalamata', 'kale', 'kashmiri chili', 'kasseri cheese', 'kernel', 'ketjap manis', 'kewra essence', 'key lime juice', 'kidney bean', 'kielbasa', 'kirsch', 'kitchen bouquet', 'kiwi', 'kiwi fruit', 'kohlrabi', 'kraft healthy favorite cheddar', 'kraft parmesan cheese', 'kumara', 'la chinata bittersweet', 'la palmas chili sauce', 'ladyfinger', 'lager beer', 'lamb', 'lamb chop', 'lamb fillet', 'lamb pluck', 'lamb shank', 'lamb steak', 'land olakes butter', 'lavender blossom', 'lawrys', 'lea perrins sauce', 'leave', 'leek', 'lemon', 'lemon balm', 'lemon flavor pudding pie filling', 'lemon flavored vodka', 'lemon grass', 'lemon juice', 'lemon peel', 'lemon pudding', 'lemon yogurt', 'lemongrass', 'lentil', 'lettuce', 'lily self rising flour', 'lima bean', 'lime', 'lime jell o gelatin', 'lime juice', 'lime peel', 'linguine', 'liquid honey', 'liquid smoke', 'liquid sugar substitute', 'lite', 'lite silken tofu', 'littleneck clam', 'liver', 'lobster', 'lobster meat', 'lobster tail', 'loin lamb', 'london broil beef', 'lotus', 'lox', 'lump crabmeat', 'lychee', 'macaroni', 'macaroni noodle', 'mace', 'macon wine', 'madeira wine', 'malt vinegar', 'mandarin juice', 'mandarin orange', 'mandarin orange juice', 'mandarin orange section', 'mandarin orange syrup', 'mandarin segment', 'mango', 'mango chutney', 'mango pulp', 'mango vanilla ice cream', 'maple syrup', 'maraschino cherry', 'maraschino cherry juice', 'margarine', 'marjoram', 'marmalade', 'marsala', 'marsala wine', 'marshmallow', 'marshmallow cream', 'marshmallow creme', 'marshmallow whip', 'masa harina', 'masa harina flour', 'masala', 'mascarpone', 'mashed potato', 'masterpiece original barbecue sauce', 'matzo meal', 'mayonnaise', 'mcintosh apple', 'melon', 'mesclun', 'methi', 'mexican', 'mexican chili', 'mexican stewed tomato', 'mexican stewed tomato jalapeno', 'mexican tomato', 'meyers rum', 'milk', 'milnot milk', 'mini marshmallow', 'mint', 'minute rice', 'minute tapioca', 'miracle whip', 'mirin', 'mirlitons', 'miso', 'molasses', 'monterey jack cheddar cheese blend', 'monterey jack cheese', 'monterey jack soy cheese', 'morel', 'morton coarse', 'mozzarella cheddar blend cheese', 'mozzarella cheese', 'msg', 'muenster cheese', 'muffin', 'multi colored macaroni', 'muscovado sugar', 'mushroom', 'mushroom cap', 'mussel', 'naartjie peel', 'nam pla', 'napa cabbage', 'navel orange', 'navy bean', 'nectarine', 'niblets', 'nido full cream milk', 'nigella', 'no added chicken broth', 'no added stewed tomato', 'no added tomato paste', 'no added tomato sauce', 'non alcoholic beer', 'non dairy topping', 'non dairy whipped topping', 'non hydrogenated vegan margarine', 'non powdered milk', 'non vanilla yogurt', 'noodle', 'nopal', 'nutmeg', 'nutritional yeast', 'oat', 'oatmeal', 'obrien potato', 'ocean cranberry', 'okra', 'old fashioned oat', 'old mill oat', 'oleo', 'onion', 'onion ring', 'onion top', 'opal basil', 'open pit barbecue sauce', 'orange', 'orange bell', 'orange marmalade', 'oriental radish', 'orzo pasta', 'other onion', 'other pasta', 'other wine', 'oyster sauce', 'palm sugar', 'panamanian', 'pancetta', 'panir', 'papaya', 'parchment paper', 'parmesan', 'parmesan cheese', 'parmesan cheese crouton', 'parsley', 'parsnip', 'passion fruit', 'pasta', 'pasta noodle', 'pasta roni', 'paste', 'pea', 'pea tendril', 'peach gelatin', 'peanut', 'peanut butter', 'pear', 'pear tomato', 'pearl barley', 'pecan', 'pecan meal', 'pecan pie pastry', 'penne', 'penne pasta', 'peppercorn', 'pepperidge farm stuffing', 'peri peri', 'pesto sauce', 'pheasant', 'philadelphia cream cheese', 'phyllo dough', 'phyllo pastry', 'phyllo pastry sheet', 'pickle', 'pickle juice', 'pickled ginger', 'pickling', 'pickling cucumber', 'pickling vinegar', 'pie apple', 'piloncillo cone', 'pimento', 'pimiento', 'pineapple', 'pineapple juice', 'pineapple pudding', 'pineapple ring', 'pineapple tidbit', 'pink grapefruit', 'pinto bean', 'pinto bean jalapeno', 'piri piri', 'pista', 'pistachio', 'pistachio pudding', 'plantain', 'planter fancy cashew', 'plum', 'plum jam', 'plum puree', 'plum sauce', 'plum tomato', 'poblano chile', 'polenta', 'polish sausage', 'polished rice', 'polyunsaturated margarine', 'pomegranate', 'pomegranate juice', 'poppy', 'porcini mushroom', 'pork', 'pork broth', 'pork butt shank steak', 'pork chop', 'pork hock', 'pork loin', 'pork sausage', 'pork top loin', 'porridge oat', 'port wine', 'portabella mushroom', 'portabella mushroom cap', 'potato', 'potato starch', 'poultry', 'pourable margarine', 'powdered', 'powdered allspice', 'powdered clove', 'powdered ginger', 'powdered milk', 'powdered saffron', 'powdered soy protein concentrate', 'powdered sugar', 'premade puff pastry', 'preserved turnip', 'process american cheese', 'processed cheese', 'processed swiss cheese', 'prosciutto', 'prosciutto ham', 'prune', 'prune filling', 'prune food', 'prune puree', 'pudding', 'puff pastry', 'puff pastry sheet', 'pumpkin', 'pumpkin pie', 'pumpkin puree', 'pure maple syrup', 'pure vanilla', 'puree', 'purple onion', 'queso fresco', 'quick barley', 'quick grit', 'quick oat', 'quick oatmeal', 'quick rice', 'quick rising yeast', 'quick tapioca', 'quicker quaker oat', 'quince', 'quinoa', 'rabbit', 'rack lamb', 'raclette cheese', 'radish', 'radish sprout', 'ragu tomato sauce', 'raisin', 'raspberry', 'raspberry gelatin', 'raspberry jell o gelatin', 'raspberry syrup', 'raspberry vinegar', 'rava', 'ready beef broth', 'real butter', 'real maple syrup', 'real vanilla', 'realemon juice', 'redondo iglesias jamsn serrano', 'refined flour', 'regular hamburger', 'regular margarine', 'rendered duck', 'rhubarb', 'rice', 'rice paper', 'rice vinegar', 'rice wine', 'rich chicken broth', 'ricotta cheese', 'rigatoni pasta', 'ro tel tomato', 'ro tel tomato onion', 'roasting chicken', 'robin hood flour', 'robin hood oat', 'rock', 'roll pork sausage', 'rolled beef', 'rolled oat', 'rolled oatmeal', 'romaine lettuce', 'rome apple', 'romulo', 'roquefort cheese', 'rose', 'rose essence', 'rose wine', 'rosemary', 'rotel tomato', 'rotel tomato chilies', 'rotini pasta', 'rubbed sage', 'rum', 'rump', 'rump steak', 'russet potato', 'saffron', 'saffron thread', 'sage', 'sage sausage', 'sake', 'salad', 'salad potato', 'salad tomato', 'salmon', 'salmon fillet', 'salmon steak', 'salsa', 'sambal oelek', 'sauce', 'sauerkraut', 'sausage', 'sausage meat', 'savory', 'savoy cabbage', 'scallion', 'scallop', 'scotch bonnet', 'season', 'self raising flour', 'self rising flour', 'seltzer', 'semi chocolate', 'semolina', 'semolina flour', 'serrano chili', 'serrano chilies', 'sesame', 'seville orange', 'shallot', 'sharp canadian cheddar cheese', 'sharp cheddar', 'sharp cheddar cheese', 'shiitake mushroom', 'shoe peg', 'shoepeg', 'short grain rice', 'short rib beef', 'shortbread', 'shortening', 'shrimp', 'shrimp paste', 'side pork', 'sirloin beef', 'sirloin lamb chop', 'sirloin tip', 'sirloin tip steak', 'skim evaporated milk', 'skim milk', 'skim milk buttermilk', 'skim milk ricotta cheese', 'skim milk yogurt', 'skim mozzarella cheese', 'skim ricotta cheese', 'slab bacon', 'snapper', 'snapper fillet', 'snow pea', 'sockeye salmon', 'soda', 'sole fillet', 'solid pack pumpkin', 'solid type margarine', 'southern hash potato', 'soy dairy tofu', 'soy miso', 'soy sauce', 'soya margarine', 'soya milk', 'soya sauce', 'soybean', 'soymilk', 'soymilk lite', 'spaghetti', 'spaghetti squash', 'spanish', 'spanish brandy', 'spanish onion', 'spanish peanut', 'spanish pimento', 'spanish rice', 'spearmint', 'spicy', 'spicy tomato sauce', 'spinach', 'spinach fettuccine', 'spiral shaped pasta', 'splenda sugar substitute', 'squash', 'squid', 'star', 'star nutritional yeast', 'stayman apple', 'steak', 'steel oat', 'stew beef', 'stewed tomato', 'stewing beef', 'stewing lamb', 'stone', 'stone cornmeal', 'stone wheat flour', 'stout beer', 'stove top stuffing', 'strawberry', 'strawberry cream cheese', 'strawberry gelatin', 'strawberry ice cream', 'strawberry jell o gelatin dessert', 'strawberry sugar gelatin', 'strawberry syrup', 'string bean', 'strong coffee', 'strong rich coffee', 'stuffed', 'stuffing', 'suet', 'sugar', 'sugar rolled date', 'sugar snap pea', 'sugar strawberry gelatin', 'sugar substitute', 'sugar twin', 'sultana', 'sultana raisin', 'sumaq', 'summer savory', 'sunflower', 'sunflower margarine', 'swanson chicken broth', 'swedish meatball', 'sweetcorn', 'sweetener', 'sweetn', 'swiss', 'swiss cheese', 'swordfish steak', 'syrup', 'szechuan peppercorn', 'szechwan', 'tabasco sauce', 'table', 'taco', 'taco flour tortilla', 'tagliatelle pasta noodle', 'tahini', 'tamari', 'tamarillo', 'tamarind chutney', 'tamarind paste', 'tamarind pulp', 'tandoori masala', 'tangerine', 'tangerine peel', 'tap', 'tapioca', 'tapioca starch', 'tarragon', 'tarragon vinegar', 'tart apple', 'tart cherry', 'tasso', 'tea', 'tea bag', 'tempeh', 'tender quick', 'teriyaki tofu', 'texas enchilada sauce', 'tiny pea', 'tip steak', 'tofu', 'tofu dog', 'tofutti better than cream cheese', 'tomato', 'tomato bisque', 'tomato bisque soup', 'tomato chilies', 'tomato juice', 'tomato paste', 'tomato pesto', 'tomato puree', 'tomato salsa', 'tomato sauce', 'tomato sauce mushroom', 'tomato sauce onion', 'top steak', 'topside mince', 'tortellini cheese pasta', 'tortilla', 'tortilla chip', 'tortilla flour', 'trassi oedang', 'treacle', 'trenette pasta noodle', 'tri color spiral pasta', 'tri tip steak', 'triple sec', 'trout', 'trout fillet', 'truffle', 'tubular pasta', 'tuna', 'tuna brine', 'tuna fish', 'tuna steak', 'turkey', 'turkey breast', 'turkey broth', 'turkey carcass', 'turkey kielbasa', 'turkey meat', 'turkey polish kielbasa', 'turkey sausage', 'turkey scallopini', 'turkey stuffing', 'turnip', 'type lamb chop', 'udon noodle', 'uncle ben rice', 'unflavored gelatin', 'unsifted flour', 'unsulphured molasses', 'urad dal', 'valencia orange', 'vanilla', 'vanilla bean', 'vanilla essence', 'vanilla flavor pudding pie filling', 'vanilla flavoring', 'vanilla ice cream', 'vanilla pudding', 'vanilla yogurt', 'vanilla yogurt cheese', 'veal liver', 'vegan cream', 'vegan egg substitute', 'vegan margarine', 'vegan mayonnaise', 'vegan sugar', 'vegetable broth', 'vegetable granule', 'vegetable margarine', 'vegetable marrow', 'vegetable shortening', 'vegetable suet', 'vegetarian chili', 'vegetarian dog', 'vegetarian refried bean', 'vegetarian sauce', 'vegetarian vegetable soup', 'velveeta american cheese spread', 'velveeta cheese', 'venison steak', 'vermouth', 'vinegar', 'vodka', 'walnut', 'walnut meat', 'wasabi', 'wasabi paste', 'watercress', 'watermelon', 'weed', 'weetabix', 'wheat flour', 'wheat flour tortilla', 'wheat germ', 'wheat pasta', 'wheat pastry flour', 'wheat tortilla', 'whipped butter', 'wine', 'wine vinegar', 'wine yeast', 'winter melon', 'wondra flour', 'wonton', 'wonton wrapper', 'wyler chicken', 'yeast', 'yeast energizer', 'yoghurt', 'yogurt', 'young tender', 'yucca', 'yukon gold potato', 'zatarains jambalaya', 'zinfandel', 'ziti pasta', 'zucchini']\n",
      "check  [-0.03682996  0.2968007  -0.06912213  0.02097942  0.13127188 -0.5824511\n",
      "  0.24029143  0.8262271  -0.21732713 -0.4479342  -0.16188003 -0.517054\n",
      " -0.17031452  0.13435023  0.1834564  -0.092974    0.10795234 -0.22612976\n",
      " -0.12629682 -0.7286901   0.20493518  0.10215955  0.37148768 -0.4034305\n",
      "  0.07150524  0.07487868 -0.38942102 -0.10334936 -0.274099    0.20303923\n",
      "  0.41597617 -0.03870989  0.2499284  -0.4197815  -0.13009736  0.44773215\n",
      "  0.07744723 -0.1686074  -0.1737186  -0.32017446  0.15587924 -0.30778614\n",
      " -0.3062972   0.06745491  0.32823035 -0.19567625 -0.21231051 -0.08002557\n",
      "  0.3181306   0.28425246  0.28091407 -0.35092598  0.04321131 -0.05538775\n",
      " -0.24613458  0.23859878  0.12039752 -0.01357293 -0.27622736  0.30725813\n",
      "  0.06437177 -0.02497352  0.1955834  -0.02337143 -0.3478266   0.43522435\n",
      "  0.24860868  0.396853   -0.48681694  0.42606866 -0.25946122  0.12513834\n",
      "  0.3843247   0.12718606  0.32151356  0.07547103  0.03443931  0.05043174\n",
      " -0.18282314 -0.01532564 -0.3325333   0.09802607 -0.32143277  0.42398337\n",
      " -0.30417326 -0.03204636  0.3928795   0.16293652  0.24639359  0.11518421\n",
      "  0.51636654  0.24630758 -0.05275783 -0.09919345  0.47310865  0.15200318\n",
      "  0.22639473 -0.17330587  0.06894187 -0.11060834]\n"
     ]
    },
    {
     "data": {
      "text/plain": [
       "[('bell', 0.99931800365448),\n",
       " ('tomato sauce', 0.9991217255592346),\n",
       " ('celery', 0.9990849494934082),\n",
       " ('beef', 0.99894779920578),\n",
       " ('parsley', 0.9988266229629517),\n",
       " ('tomato paste', 0.9986143708229065),\n",
       " ('carrot', 0.9984724521636963),\n",
       " ('rice', 0.9984385371208191),\n",
       " ('mushroom', 0.9984091520309448),\n",
       " ('basil', 0.9982789158821106)]"
      ]
     },
     "execution_count": 81,
     "metadata": {},
     "output_type": "execute_result"
    }
   ],
   "source": [
    "#Summarize the loaded model\n",
    "print(model_cbow)\n",
    "\n",
    "#Summarize vocabulary\n",
    "words = list(model_cbow.wv.index_to_key)\n",
    "words.sort()\n",
    "print(words)\n",
    "\n",
    "#Acess vector for one word\n",
    "print(\"check \",model_cbow.wv['tomato'])\n",
    "\n",
    "# most similar\n",
    "model_cbow.wv.most_similar(u'tomato')\n",
    "#print(\"after stock\")\n",
    "#model_cbow.wv.similarity('cauliflower', 'cauliflower just larger than potato')"
   ]
  },
  {
   "cell_type": "code",
   "execution_count": 82,
   "metadata": {},
   "outputs": [],
   "source": [
    "model_cbow.save('models/model_cbow_ingredients.bin')"
   ]
  },
  {
   "cell_type": "code",
   "execution_count": 83,
   "metadata": {},
   "outputs": [],
   "source": [
    "class MeanEmbeddingVectorizer(object):\n",
    "\n",
    "\tdef __init__(self, word_model):\n",
    "\t\tself.word_model = word_model\n",
    "\t\tself.vector_size = word_model.wv.vector_size\n",
    "\n",
    "\tdef fit(self):  # comply with scikit-learn transformer requirement\n",
    "\t\treturn self\n",
    "\n",
    "\tdef transform(self, docs):  # comply with scikit-learn transformer requirement\n",
    "\t\tdoc_word_vector = self.word_average_list(docs)\n",
    "\t\treturn doc_word_vector\n",
    "\n",
    "\tdef word_average(self, sent):\n",
    "\t\t\"\"\"\n",
    "\t\tCompute average word vector for a single doc/sentence.\n",
    "\t\t:param sent: list of sentence tokens\n",
    "\t\t:return:\n",
    "\t\t\tmean: float of averaging word vectors\n",
    "\t\t\"\"\"\n",
    "\t\tmean = []\n",
    "\t\tfor word in sent:\n",
    "\t\t\tif word in self.word_model.wv.index_to_key:\n",
    "\t\t\t\tmean.append(self.word_model.wv.get_vector(word))\n",
    "\n",
    "\t\tif not mean:  # empty words\n",
    "\t\t\t# If a text is empty, return a vector of zeros.\n",
    "\t\t\tlogging.warning(\"cannot compute average owing to no vector for {}\".format(sent))\n",
    "\t\t\treturn np.zeros(self.vector_size)\n",
    "\t\telse:\n",
    "\t\t\tmean = np.array(mean).mean(axis=0)\n",
    "\t\t\treturn mean\n",
    "\n",
    "\n",
    "\tdef word_average_list(self, docs):\n",
    "\t\t\"\"\"\n",
    "\t\tCompute average word vector for multiple docs, where docs had been tokenized.\n",
    "\t\t:param docs: list of sentence in list of separated tokens\n",
    "\t\t:return:\n",
    "\t\t\tarray of average word vector in shape (len(docs),)\n",
    "\t\t\"\"\"\n",
    "\t\treturn np.vstack([self.word_average(sent) for sent in docs])"
   ]
  },
  {
   "cell_type": "code",
   "execution_count": 84,
   "metadata": {},
   "outputs": [
    {
     "name": "stdout",
     "output_type": "stream",
     "text": [
      "Successfully loaded model\n",
      "cannot compute average owing to no vector for []\n",
      "cannot compute average owing to no vector for []\n",
      "cannot compute average owing to no vector for []\n"
     ]
    }
   ],
   "source": [
    "# encode document by averaging word embeddings\n",
    "\n",
    "# load model \n",
    "loaded_model = Word2Vec.load('models/model_cbow_ingredients.bin')\n",
    "if loaded_model:\n",
    "    print(\"Successfully loaded model\")\n",
    "\n",
    "mean_vec_tr = MeanEmbeddingVectorizer(loaded_model)\n",
    "doc_vec = mean_vec_tr.transform(ingreds)"
   ]
  }
 ],
 "metadata": {
  "kernelspec": {
   "display_name": "base",
   "language": "python",
   "name": "python3"
  },
  "language_info": {
   "codemirror_mode": {
    "name": "ipython",
    "version": 3
   },
   "file_extension": ".py",
   "mimetype": "text/x-python",
   "name": "python",
   "nbconvert_exporter": "python",
   "pygments_lexer": "ipython3",
   "version": "3.9.13"
  },
  "orig_nbformat": 4
 },
 "nbformat": 4,
 "nbformat_minor": 2
}
