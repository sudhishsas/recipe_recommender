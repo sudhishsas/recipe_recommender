{
 "cells": [
  {
   "cell_type": "code",
   "execution_count": null,
   "metadata": {},
   "outputs": [],
   "source": [
    "import numpy as np\n",
    "import pandas as pd \n",
    "import logging\n",
    "\n",
    "from gensim.models import Word2Vec\n",
    "\n",
    "\n",
    "from words_parser import ingredient_parser"
   ]
  },
  {
   "cell_type": "code",
   "execution_count": null,
   "metadata": {},
   "outputs": [],
   "source": [
    " \n",
    "data = pd.read_csv(r'C:\\xampp\\htdocs\\3161Database files\\recipe_recommender\\app\\csvfiles\\parsed_recipesv4.csv')\n",
    "data['parsed_ingredients'] = data.RecipeIngredientParts.apply(ingredient_parser)\n",
    "data.head()"
   ]
  },
  {
   "cell_type": "code",
   "execution_count": null,
   "metadata": {},
   "outputs": [],
   "source": [
    "# get corpus with the documents sorted in alphabetical order\n",
    "def get_and_sort_ingr(data):\n",
    "    ingreds_sorted = []\n",
    "    for doc in data.parsed_ingredients.values:\n",
    "        ingreds_sorted.append(doc)\n",
    "    return ingreds_sorted\n",
    "\n",
    "ingreds = get_and_sort_ingr(data[:5000])\n",
    "#for i in ingreds:\n",
    "#    print(i)\n",
    "print(f\"Length of ingreds: {len(ingreds)}\")"
   ]
  },
  {
   "cell_type": "code",
   "execution_count": null,
   "metadata": {},
   "outputs": [],
   "source": [
    "thirdofcorpus = round(len(ingreds)*.25)\n",
    "#print(len(ingreds))\n",
    "print(len(ingreds[:thirdofcorpus]))\n",
    "\n",
    "lengths = [len(doc) for doc in ingreds]\n",
    "print(round(sum(lengths)/len(lengths)))\n",
    "avg_len = float(sum(lengths)) / len(lengths)\n",
    "avg_len\n"
   ]
  },
  {
   "cell_type": "code",
   "execution_count": null,
   "metadata": {},
   "outputs": [],
   "source": [
    "# train word2vec model \n",
    "sg = 0 # CBOW: build a language model that correctly predicts the center word given the context words in which the center word appears\n",
    "workers = 8 # number of CPUs\n",
    "window = 6 # window size: average length of each document \n",
    "min_count = 1 # unique ingredients are important to decide recipes \n",
    "\n",
    "model_cbow = Word2Vec(ingreds, sg=sg, workers=workers, window=window, min_count=min_count, vector_size=100)"
   ]
  },
  {
   "cell_type": "code",
   "execution_count": null,
   "metadata": {},
   "outputs": [],
   "source": [
    "#Summarize the loaded model\n",
    "print(model_cbow)\n",
    "\n",
    "#Summarize vocabulary\n",
    "words = list(model_cbow.wv.index_to_key)\n",
    "words.sort()\n",
    "print(words)\n",
    "\n",
    "#Acess vector for one word\n",
    "print(\"check \",model_cbow.wv['tomato'])\n",
    "\n",
    "# most similar\n",
    "model_cbow.wv.most_similar(u'tomato')\n",
    "#print(\"after stock\")\n",
    "#model_cbow.wv.similarity('cauliflower', 'cauliflower just larger than potato')"
   ]
  },
  {
   "cell_type": "code",
   "execution_count": null,
   "metadata": {},
   "outputs": [],
   "source": [
    "model_cbow.save('models/model_cbow_ingredients.bin')"
   ]
  },
  {
   "cell_type": "code",
   "execution_count": null,
   "metadata": {},
   "outputs": [],
   "source": [
    "class MeanEmbeddingVectorizer(object):\n",
    "\n",
    "\tdef __init__(self, word_model):\n",
    "\t\tself.word_model = word_model\n",
    "\t\tself.vector_size = word_model.wv.vector_size\n",
    "\n",
    "\tdef fit(self):  # comply with scikit-learn transformer requirement\n",
    "\t\treturn self\n",
    "\n",
    "\tdef transform(self, docs):  # comply with scikit-learn transformer requirement\n",
    "\t\tdoc_word_vector = self.word_average_list(docs)\n",
    "\t\treturn doc_word_vector\n",
    "\n",
    "\tdef word_average(self, sent):\n",
    "\t\t\"\"\"\n",
    "\t\tCompute average word vector for a single doc/sentence.\n",
    "\t\t:param sent: list of sentence tokens\n",
    "\t\t:return:\n",
    "\t\t\tmean: float of averaging word vectors\n",
    "\t\t\"\"\"\n",
    "\t\tmean = []\n",
    "\t\tfor word in sent:\n",
    "\t\t\tif word in self.word_model.wv.index_to_key:\n",
    "\t\t\t\tmean.append(self.word_model.wv.get_vector(word))\n",
    "\n",
    "\t\tif not mean:  # empty words\n",
    "\t\t\t# If a text is empty, return a vector of zeros.\n",
    "\t\t\tlogging.warning(\"cannot compute average owing to no vector for {}\".format(sent))\n",
    "\t\t\treturn np.zeros(self.vector_size)\n",
    "\t\telse:\n",
    "\t\t\tmean = np.array(mean).mean(axis=0)\n",
    "\t\t\treturn mean\n",
    "\n",
    "\n",
    "\tdef word_average_list(self, docs):\n",
    "\t\t\"\"\"\n",
    "\t\tCompute average word vector for multiple docs, where docs had been tokenized.\n",
    "\t\t:param docs: list of sentence in list of separated tokens\n",
    "\t\t:return:\n",
    "\t\t\tarray of average word vector in shape (len(docs),)\n",
    "\t\t\"\"\"\n",
    "\t\treturn np.vstack([self.word_average(sent) for sent in docs])"
   ]
  },
  {
   "cell_type": "code",
   "execution_count": null,
   "metadata": {},
   "outputs": [],
   "source": [
    "# encode document by averaging word embeddings\n",
    "\n",
    "# load model \n",
    "loaded_model = Word2Vec.load('models/model_cbow_ingredients.bin')\n",
    "if loaded_model:\n",
    "    print(\"Successfully loaded model\")\n",
    "\n",
    "mean_vec_tr = MeanEmbeddingVectorizer(loaded_model)\n",
    "doc_vec = mean_vec_tr.transform(ingreds)"
   ]
  }
 ],
 "metadata": {
  "kernelspec": {
   "display_name": "base",
   "language": "python",
   "name": "python3"
  },
  "language_info": {
   "codemirror_mode": {
    "name": "ipython",
    "version": 3
   },
   "file_extension": ".py",
   "mimetype": "text/x-python",
   "name": "python",
   "nbconvert_exporter": "python",
   "pygments_lexer": "ipython3",
   "version": "3.9.13"
  },
  "orig_nbformat": 4
 },
 "nbformat": 4,
 "nbformat_minor": 2
}
