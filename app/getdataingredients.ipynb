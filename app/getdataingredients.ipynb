{
 "cells": [
  {
   "cell_type": "code",
   "execution_count": null,
   "metadata": {},
   "outputs": [],
   "source": [
    "import numpy as np\n",
    "import pandas as pd \n",
    "import logging\n",
    "\n",
    "from gensim.models import Word2Vec\n",
    "\n",
    "\n",
    "from words_parser import ingredient_parser"
   ]
  },
  {
   "cell_type": "code",
   "execution_count": null,
   "metadata": {},
   "outputs": [],
   "source": [
    " \n",
    "data = pd.read_csv(r'C:\\xampp\\htdocs\\3161Database files\\recipe_recommender\\app\\csvfiles\\parsed_recipesv4.csv')\n",
    "data['parsed_ingredients'] = data.RecipeIngredientParts.apply(ingredient_parser)\n",
    "data.head()"
   ]
  },
  {
   "cell_type": "code",
   "execution_count": null,
   "metadata": {},
   "outputs": [],
   "source": [
    "# get corpus with the documents sorted in alphabetical order\n",
    "def get_and_sort_ingr(data):\n",
    "    ingreds_sorted = []\n",
    "    for doc in data.parsed_ingredients.values:\n",
    "        ingreds_sorted.append(doc)\n",
    "    return ingreds_sorted\n",
    "\n",
    "ingreds = get_and_sort_ingr(data[:5500])\n",
    "#for i in ingreds:\n",
    "#    print(i)\n",
    "print(f\"Length of ingreds: {len(ingreds)}\")"
   ]
  },
  {
   "cell_type": "code",
   "execution_count": null,
   "metadata": {},
   "outputs": [],
   "source": [
    "thirdofcorpus = round(len(ingreds)*.25)\n",
    "#print(len(ingreds))\n",
    "print(len(ingreds[:thirdofcorpus]))\n",
    "\n",
    "lengths = [len(doc) for doc in ingreds]\n",
    "print(round(sum(lengths)/len(lengths)))\n",
    "avg_len = float(sum(lengths)) / len(lengths)\n",
    "avg_len\n"
   ]
  },
  {
   "cell_type": "code",
   "execution_count": null,
   "metadata": {},
   "outputs": [],
   "source": [
    "# train word2vec model \n",
    "sg = 0 # CBOW: build a language model that correctly predicts the center word given the context words in which the center word appears\n",
    "workers = 8 # number of CPUs\n",
    "window = 6 # window size: average length of each document \n",
    "min_count = 1 # unique ingredients are important to decide recipes \n",
    "\n",
    "model_cbow = Word2Vec(ingreds, sg=sg, workers=workers, window=window, min_count=min_count, vector_size=100)"
   ]
  },
  {
   "cell_type": "code",
   "execution_count": null,
   "metadata": {},
   "outputs": [],
   "source": [
    "#Summarize the loaded model\n",
    "print(model_cbow)\n",
    "\n",
    "#Summarize vocabulary\n",
    "words = list(model_cbow.wv.index_to_key)\n",
    "words.sort()\n",
    "print(words)\n",
    "\n",
    "#Acess vector for one word\n",
    "print(\"check \",model_cbow.wv['tomato'])\n",
    "\n",
    "# most similar\n",
    "model_cbow.wv.most_similar(u'tomato')\n",
    "#print(\"after stock\")\n",
    "#model_cbow.wv.similarity('cauliflower', 'cauliflower just larger than potato')"
   ]
  },
  {
   "cell_type": "code",
   "execution_count": null,
   "metadata": {},
   "outputs": [],
   "source": [
    "model_cbow.save('models/model_cbow_ingredients.bin')"
   ]
  },
  {
   "cell_type": "code",
   "execution_count": null,
   "metadata": {},
   "outputs": [],
   "source": [
    "from sklearn.decomposition import PCA\n",
    "import matplotlib.pyplot as plt\n",
    "\n",
    "X = model_cbow[model_cbow.wv.vocab]\n",
    "pca = PCA(n_components=2)\n",
    "result = pca.fit_transform(X)\n",
    "\n",
    "fig = plt.figure(figsize=(100,60))\n",
    "\n",
    "plt.scatter(result[:300, 0], result[:300, 1])\n",
    "words = list(model_cbow.wv.vocab)[:300]\n",
    "for i, word in enumerate(words):\n",
    "    plt.annotate(word, xy=(result[i, 0], result[i, 1]), fontsize=15)\n",
    "plt.show()"
   ]
  }
 ],
 "metadata": {
  "kernelspec": {
   "display_name": "base",
   "language": "python",
   "name": "python3"
  },
  "language_info": {
   "codemirror_mode": {
    "name": "ipython",
    "version": 3
   },
   "file_extension": ".py",
   "mimetype": "text/x-python",
   "name": "python",
   "nbconvert_exporter": "python",
   "pygments_lexer": "ipython3",
   "version": "3.9.13"
  },
  "orig_nbformat": 4
 },
 "nbformat": 4,
 "nbformat_minor": 2
}
