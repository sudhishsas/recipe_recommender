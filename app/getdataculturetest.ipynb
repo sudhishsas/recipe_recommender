{
 "cells": [
  {
   "cell_type": "code",
   "execution_count": 1,
   "metadata": {},
   "outputs": [],
   "source": [
    "import numpy as np\n",
    "import pandas as pd \n",
    "import logging\n",
    "\n",
    "from gensim.models import Word2Vec\n",
    "\n",
    "\n",
    "from words_parser import category_parser"
   ]
  },
  {
   "cell_type": "code",
   "execution_count": 2,
   "metadata": {},
   "outputs": [
    {
     "data": {
      "text/html": [
       "<div>\n",
       "<style scoped>\n",
       "    .dataframe tbody tr th:only-of-type {\n",
       "        vertical-align: middle;\n",
       "    }\n",
       "\n",
       "    .dataframe tbody tr th {\n",
       "        vertical-align: top;\n",
       "    }\n",
       "\n",
       "    .dataframe thead th {\n",
       "        text-align: right;\n",
       "    }\n",
       "</style>\n",
       "<table border=\"1\" class=\"dataframe\">\n",
       "  <thead>\n",
       "    <tr style=\"text-align: right;\">\n",
       "      <th></th>\n",
       "      <th>RecipeId</th>\n",
       "      <th>Name</th>\n",
       "      <th>CookTime</th>\n",
       "      <th>RecipeCategory</th>\n",
       "      <th>Keywords</th>\n",
       "      <th>RecipeIngredientParts</th>\n",
       "      <th>Calories</th>\n",
       "      <th>FatContent</th>\n",
       "      <th>CholesterolContent</th>\n",
       "      <th>SodiumContent</th>\n",
       "      <th>SugarContent</th>\n",
       "      <th>ProteinContent</th>\n",
       "      <th>RecipeInstructions</th>\n",
       "      <th>Keywords_parsed</th>\n",
       "      <th>parsed_keywords</th>\n",
       "    </tr>\n",
       "  </thead>\n",
       "  <tbody>\n",
       "    <tr>\n",
       "      <th>0</th>\n",
       "      <td>38</td>\n",
       "      <td>Low-Fat Berry Blue Frozen Dessert</td>\n",
       "      <td>PT24H</td>\n",
       "      <td>Frozen Desserts</td>\n",
       "      <td>['Dessert','Low Protein','Low Cholesterol','He...</td>\n",
       "      <td>['blueberries','granulated sugar','vanilla yog...</td>\n",
       "      <td>170.9</td>\n",
       "      <td>2.5</td>\n",
       "      <td>8.0</td>\n",
       "      <td>29.8</td>\n",
       "      <td>30.2</td>\n",
       "      <td>3.2</td>\n",
       "      <td>[Toss 2 cups berries with sugar., Let stand fo...</td>\n",
       "      <td>['Dessert', 'Low Protein', 'Low Cholesterol', ...</td>\n",
       "      <td>[dessert, low protein, low cholesterol, health...</td>\n",
       "    </tr>\n",
       "    <tr>\n",
       "      <th>1</th>\n",
       "      <td>39</td>\n",
       "      <td>Biryani</td>\n",
       "      <td>PT25M</td>\n",
       "      <td>Chicken Breast</td>\n",
       "      <td>['Chicken Thigh &amp; Leg','Chicken','Poultry','Me...</td>\n",
       "      <td>['saffron','milk','hot green chili peppers','o...</td>\n",
       "      <td>1110.7</td>\n",
       "      <td>58.8</td>\n",
       "      <td>372.8</td>\n",
       "      <td>368.4</td>\n",
       "      <td>20.4</td>\n",
       "      <td>63.4</td>\n",
       "      <td>[Soak saffron in warm milk for 5 minutes and p...</td>\n",
       "      <td>['Chicken Thigh &amp; Leg', 'Chicken', 'Poultry', ...</td>\n",
       "      <td>[chicken thigh &amp; leg, meat, asian, indian, wee...</td>\n",
       "    </tr>\n",
       "    <tr>\n",
       "      <th>2</th>\n",
       "      <td>40</td>\n",
       "      <td>Best Lemonade</td>\n",
       "      <td>PT5M</td>\n",
       "      <td>Beverages</td>\n",
       "      <td>['Low Protein','Low Cholesterol','Healthy','Su...</td>\n",
       "      <td>['sugar','lemons','rind of','lemon','zest of',...</td>\n",
       "      <td>311.1</td>\n",
       "      <td>0.2</td>\n",
       "      <td>0.0</td>\n",
       "      <td>1.8</td>\n",
       "      <td>77.2</td>\n",
       "      <td>0.3</td>\n",
       "      <td>[Into a 1 quart Jar with tight fitting lid, pu...</td>\n",
       "      <td>['Low Protein', 'Low Cholesterol', 'Healthy', ...</td>\n",
       "      <td>[low protein, low cholesterol, healthy, summer...</td>\n",
       "    </tr>\n",
       "    <tr>\n",
       "      <th>3</th>\n",
       "      <td>41</td>\n",
       "      <td>Carina's Tofu-Vegetable Kebabs</td>\n",
       "      <td>PT20M</td>\n",
       "      <td>Soy/Tofu</td>\n",
       "      <td>['Beans','Vegetable','Low Cholesterol','Weekni...</td>\n",
       "      <td>['extra firm tofu','eggplant','zucchini','mush...</td>\n",
       "      <td>536.1</td>\n",
       "      <td>24.0</td>\n",
       "      <td>0.0</td>\n",
       "      <td>1558.6</td>\n",
       "      <td>32.1</td>\n",
       "      <td>29.3</td>\n",
       "      <td>[Drain the tofu, carefully squeezing out exces...</td>\n",
       "      <td>['Beans', 'Vegetable', 'Low Cholesterol', 'Wee...</td>\n",
       "      <td>[vegetable, low cholesterol, weeknight, broil/...</td>\n",
       "    </tr>\n",
       "    <tr>\n",
       "      <th>4</th>\n",
       "      <td>42</td>\n",
       "      <td>Cabbage Soup</td>\n",
       "      <td>PT30M</td>\n",
       "      <td>Vegetable</td>\n",
       "      <td>['Low Protein','Vegan','Low Cholesterol','Heal...</td>\n",
       "      <td>['plain tomato juice','cabbage','onion','carro...</td>\n",
       "      <td>103.6</td>\n",
       "      <td>0.4</td>\n",
       "      <td>0.0</td>\n",
       "      <td>959.3</td>\n",
       "      <td>17.7</td>\n",
       "      <td>4.3</td>\n",
       "      <td>[Mix everything together and bring to a boil.,...</td>\n",
       "      <td>['Low Protein', 'Vegan', 'Low Cholesterol', 'H...</td>\n",
       "      <td>[low protein, vegan, low cholesterol, healthy,...</td>\n",
       "    </tr>\n",
       "  </tbody>\n",
       "</table>\n",
       "</div>"
      ],
      "text/plain": [
       "   RecipeId                               Name CookTime   RecipeCategory  \\\n",
       "0        38  Low-Fat Berry Blue Frozen Dessert    PT24H  Frozen Desserts   \n",
       "1        39                            Biryani    PT25M   Chicken Breast   \n",
       "2        40                      Best Lemonade     PT5M        Beverages   \n",
       "3        41     Carina's Tofu-Vegetable Kebabs    PT20M         Soy/Tofu   \n",
       "4        42                       Cabbage Soup    PT30M        Vegetable   \n",
       "\n",
       "                                            Keywords  \\\n",
       "0  ['Dessert','Low Protein','Low Cholesterol','He...   \n",
       "1  ['Chicken Thigh & Leg','Chicken','Poultry','Me...   \n",
       "2  ['Low Protein','Low Cholesterol','Healthy','Su...   \n",
       "3  ['Beans','Vegetable','Low Cholesterol','Weekni...   \n",
       "4  ['Low Protein','Vegan','Low Cholesterol','Heal...   \n",
       "\n",
       "                               RecipeIngredientParts  Calories  FatContent  \\\n",
       "0  ['blueberries','granulated sugar','vanilla yog...     170.9         2.5   \n",
       "1  ['saffron','milk','hot green chili peppers','o...    1110.7        58.8   \n",
       "2  ['sugar','lemons','rind of','lemon','zest of',...     311.1         0.2   \n",
       "3  ['extra firm tofu','eggplant','zucchini','mush...     536.1        24.0   \n",
       "4  ['plain tomato juice','cabbage','onion','carro...     103.6         0.4   \n",
       "\n",
       "   CholesterolContent  SodiumContent  SugarContent  ProteinContent  \\\n",
       "0                 8.0           29.8          30.2             3.2   \n",
       "1               372.8          368.4          20.4            63.4   \n",
       "2                 0.0            1.8          77.2             0.3   \n",
       "3                 0.0         1558.6          32.1            29.3   \n",
       "4                 0.0          959.3          17.7             4.3   \n",
       "\n",
       "                                  RecipeInstructions  \\\n",
       "0  [Toss 2 cups berries with sugar., Let stand fo...   \n",
       "1  [Soak saffron in warm milk for 5 minutes and p...   \n",
       "2  [Into a 1 quart Jar with tight fitting lid, pu...   \n",
       "3  [Drain the tofu, carefully squeezing out exces...   \n",
       "4  [Mix everything together and bring to a boil.,...   \n",
       "\n",
       "                                     Keywords_parsed  \\\n",
       "0  ['Dessert', 'Low Protein', 'Low Cholesterol', ...   \n",
       "1  ['Chicken Thigh & Leg', 'Chicken', 'Poultry', ...   \n",
       "2  ['Low Protein', 'Low Cholesterol', 'Healthy', ...   \n",
       "3  ['Beans', 'Vegetable', 'Low Cholesterol', 'Wee...   \n",
       "4  ['Low Protein', 'Vegan', 'Low Cholesterol', 'H...   \n",
       "\n",
       "                                     parsed_keywords  \n",
       "0  [dessert, low protein, low cholesterol, health...  \n",
       "1  [chicken thigh & leg, meat, asian, indian, wee...  \n",
       "2  [low protein, low cholesterol, healthy, summer...  \n",
       "3  [vegetable, low cholesterol, weeknight, broil/...  \n",
       "4  [low protein, vegan, low cholesterol, healthy,...  "
      ]
     },
     "execution_count": 2,
     "metadata": {},
     "output_type": "execute_result"
    }
   ],
   "source": [
    "data = pd.read_csv(r'C:\\xampp\\htdocs\\3161Database files\\recipe_recommender\\app\\csvfiles\\updated_Categories.csv')\n",
    "data['parsed_keywords'] = data.Keywords_parsed.apply(category_parser)\n",
    "data.head()"
   ]
  },
  {
   "cell_type": "code",
   "execution_count": 3,
   "metadata": {},
   "outputs": [
    {
     "name": "stdout",
     "output_type": "stream",
     "text": [
      "Length of ingreds: 6000\n"
     ]
    }
   ],
   "source": [
    "def get_and_sort_ingr(data):\n",
    "    ingreds_sorted = []\n",
    "    for doc in data.parsed_keywords.values:\n",
    "        ingreds_sorted.append(doc)\n",
    "    return ingreds_sorted\n",
    "\n",
    "ingreds = get_and_sort_ingr(data[:6000])\n",
    "\n",
    "print(f\"Length of ingreds: {len(ingreds)}\")"
   ]
  },
  {
   "cell_type": "code",
   "execution_count": 4,
   "metadata": {},
   "outputs": [
    {
     "name": "stdout",
     "output_type": "stream",
     "text": [
      "6\n"
     ]
    },
    {
     "data": {
      "text/plain": [
       "5.928333333333334"
      ]
     },
     "execution_count": 4,
     "metadata": {},
     "output_type": "execute_result"
    }
   ],
   "source": [
    "lengths = [len(doc) for doc in ingreds]\n",
    "avg_len = float(sum(lengths)) / len(lengths)\n",
    "print(round(sum(lengths)/len(lengths)))\n",
    "avg_len"
   ]
  },
  {
   "cell_type": "code",
   "execution_count": 5,
   "metadata": {},
   "outputs": [],
   "source": [
    "sg = 0 # CBOW: build a language model that correctly predicts the center word given the context words in which the center word appears\n",
    "workers = 8 # number of CPUs\n",
    "window = 6 # window size: average length of each document \n",
    "min_count = 1 # unique ingredients are important to decide recipes \n",
    "\n",
    "model_cbow = Word2Vec(ingreds, sg=sg, workers=workers, window=window, min_count=min_count, vector_size=100)"
   ]
  },
  {
   "cell_type": "code",
   "execution_count": 6,
   "metadata": {},
   "outputs": [
    {
     "name": "stdout",
     "output_type": "stream",
     "text": [
      "Word2Vec<vocab=145, vector_size=100, alpha=0.025>\n",
      "['< 15 min', '< 30 min', '< 4 hour', '< 60 min', 'african', 'asian', 'australian', 'austrian', 'baking', 'bar cookie', 'bass', 'beginner cook', 'belgian', 'beverage', 'brazilian', 'bread', 'breakfast', 'broil/grill', 'brunch', 'cajun', 'camping', 'canadian', 'candy', 'canning', 'caribbean', 'chicken breast', 'chicken liver', 'chicken thigh & leg', 'chilean', 'chinese', 'christmas', 'chutney', 'citrus', 'collard green', 'college food', 'colombian', 'creole', 'cuban', 'curry', 'czech', 'dairy free food', 'danish', 'deep fried', 'deer', 'dessert', 'drop cooky', 'duck breast', 'dutch', 'easy', 'egg free', 'egyptian', 'ethiopian', 'european', 'filipino', 'for large group', 'frozen dessert', 'fruit', 'german', 'greek', 'halloween', 'hanukkah', 'hawaiian', 'healthy', 'high fiber', 'high protein', 'homeopathy/remedies', 'hungarian', 'indian', 'indonesian', 'inexpensive', 'japanese', 'jelly', 'kid friendly', 'korean', 'kosher', 'lactose free', 'lebanese', 'low cholesterol', 'low protein', 'lunch/snacks', 'manicotti', 'meat', 'mexican', 'moroccan', 'native american', 'new zealand', 'nigerian', 'no cook', 'no shell fish', 'norwegian', 'one dish meal', 'pennsylvania dutch', 'pie', 'polish', 'portuguese', 'potluck', 'punch beverage', 'quick bread', 'ramadan', 'roast', 'russian', 'salad dressing', 'sauce', 'savory', 'savory pie', 'scandinavian', 'scottish', 'shake', 'smoothy', 'sourdough bread', 'south african', 'south american', 'southwest asia (middle east)', 'southwest asia middle east', 'southwestern u.s.', 'spanish', 'spicy', 'spring', 'st. patrick day', 'steak', 'steam', 'stew', 'stir fry', 'stock', 'summer', 'swedish', 'sweet', 'swiss', 'tempeh', 'tex mex', 'thai', 'thanksgiving', 'toddler friendly', 'turkish', 'veal', 'vegan', 'vegetable', 'venezuelan', 'very low carbs', 'vietnamese', 'weeknight', 'whole duck', 'wild game', 'winter', 'yeast bread']\n",
      "check  [-1.67282540e-02  1.22843154e-01 -1.25836208e-02  3.45566981e-02\n",
      "  1.13210706e-02 -1.99750483e-01  1.28111064e-01  3.27536106e-01\n",
      " -1.52453706e-01 -1.92592129e-01  2.72298828e-02 -1.82595253e-01\n",
      " -5.11864871e-02  7.70743117e-02  2.65270714e-02 -8.59887674e-02\n",
      "  1.56402305e-01 -4.25367802e-02 -1.18508274e-02 -3.22843343e-01\n",
      "  9.61668491e-02  7.70351803e-03  2.56409049e-01 -1.04352757e-01\n",
      " -3.68305519e-02  2.67693162e-04 -1.22394919e-01  2.37687342e-02\n",
      " -9.40822959e-02  2.26761103e-02  1.70206249e-01 -7.32207149e-02\n",
      "  9.34776589e-02 -2.89957970e-01 -3.48907039e-02  6.47200644e-02\n",
      "  8.98347273e-02  1.22237206e-02 -6.20687790e-02 -1.15423203e-01\n",
      "  5.35101295e-02 -8.29675645e-02 -8.36442783e-02  2.39413641e-02\n",
      "  1.12506598e-01 -5.00456430e-02 -1.25065878e-01 -8.26364234e-02\n",
      "  1.19511440e-01  7.90984556e-02  5.58263138e-02 -5.97358197e-02\n",
      " -7.40618678e-03 -6.34061545e-02 -2.19348306e-03 -7.29800239e-02\n",
      "  9.18066353e-02 -2.79367659e-02 -1.10296711e-01  2.80359443e-02\n",
      " -1.28455982e-02 -8.14284608e-02  1.76084965e-01  4.79106866e-02\n",
      " -9.77673009e-02  2.39658386e-01 -2.90229879e-02  1.06995940e-01\n",
      " -2.11320281e-01  7.22607821e-02 -5.89296175e-03  1.27397820e-01\n",
      "  1.59893587e-01  4.17902060e-02  1.63396925e-01 -2.01245286e-02\n",
      "  7.49426037e-02  8.61984789e-02 -1.04510356e-02 -4.18921597e-02\n",
      " -1.74727827e-01 -3.18102315e-02 -1.13869876e-01  8.31498578e-02\n",
      " -9.46408361e-02 -1.55267313e-01  2.23035976e-01  4.67039272e-02\n",
      "  8.80289599e-02  8.81286487e-02  1.64891809e-01  5.28385080e-02\n",
      "  6.55101016e-02 -2.14089453e-02  2.76487261e-01  2.38911230e-02\n",
      "  4.29991893e-02 -2.40491051e-02 -1.11754918e-02 -1.68661848e-02]\n"
     ]
    },
    {
     "data": {
      "text/plain": [
       "[('ramadan', 0.9980020523071289),\n",
       " ('scandinavian', 0.9979054927825928),\n",
       " ('african', 0.9978825449943542),\n",
       " ('south american', 0.9978551864624023),\n",
       " ('kosher', 0.9977973699569702),\n",
       " ('lactose free', 0.9977708458900452),\n",
       " ('potluck', 0.9976552724838257),\n",
       " ('breakfast', 0.9976194500923157),\n",
       " ('deep fried', 0.997607409954071),\n",
       " ('< 15 min', 0.9975735545158386)]"
      ]
     },
     "execution_count": 6,
     "metadata": {},
     "output_type": "execute_result"
    }
   ],
   "source": [
    "#Summarize the loaded model\n",
    "print(model_cbow)\n",
    "\n",
    "#Summarize vocabulary\n",
    "words = list(model_cbow.wv.index_to_key)\n",
    "words.sort()\n",
    "print(words)\n",
    "\n",
    "#Acess vector for one word\n",
    "print(\"check \",model_cbow.wv['australian'])\n",
    "\n",
    "# most similar\n",
    "model_cbow.wv.most_similar(u'australian')\n",
    "#print(\"after stock\")\n",
    "#model_cbow.wv.similarity('cauliflower', 'cauliflower just larger than potato')"
   ]
  },
  {
   "cell_type": "code",
   "execution_count": 7,
   "metadata": {},
   "outputs": [],
   "source": [
    "model_cbow.save('models/model_cbow_categorykeywords.bin')"
   ]
  },
  {
   "cell_type": "code",
   "execution_count": 9,
   "metadata": {},
   "outputs": [],
   "source": [
    "class MeanEmbeddingVectorizer(object):\n",
    "\n",
    "\tdef __init__(self, word_model):\n",
    "\t\tself.word_model = word_model\n",
    "\t\tself.vector_size = word_model.wv.vector_size\n",
    "\n",
    "\tdef fit(self):  # comply with scikit-learn transformer requirement\n",
    "\t\treturn self\n",
    "\n",
    "\tdef transform(self, docs):  # comply with scikit-learn transformer requirement\n",
    "\t\tdoc_word_vector = self.word_average_list(docs)\n",
    "\t\treturn doc_word_vector\n",
    "\n",
    "\tdef word_average(self, sent):\n",
    "\t\t\"\"\"\n",
    "\t\tCompute average word vector for a single doc/sentence.\n",
    "\t\t:param sent: list of sentence tokens\n",
    "\t\t:return:\n",
    "\t\t\tmean: float of averaging word vectors\n",
    "\t\t\"\"\"\n",
    "\t\tmean = []\n",
    "\t\tfor word in sent:\n",
    "\t\t\tif word in self.word_model.wv.index_to_key:\n",
    "\t\t\t\tmean.append(self.word_model.wv.get_vector(word))\n",
    "\n",
    "\t\tif not mean:  # empty words\n",
    "\t\t\t# If a text is empty, return a vector of zeros.\n",
    "\t\t\tlogging.warning(\"cannot compute average owing to no vector for {}\".format(sent))\n",
    "\t\t\treturn np.zeros(self.vector_size)\n",
    "\t\telse:\n",
    "\t\t\tmean = np.array(mean).mean(axis=0)\n",
    "\t\t\treturn mean\n",
    "\n",
    "\n",
    "\tdef word_average_list(self, docs):\n",
    "\t\t\"\"\"\n",
    "\t\tCompute average word vector for multiple docs, where docs had been tokenized.\n",
    "\t\t:param docs: list of sentence in list of separated tokens\n",
    "\t\t:return:\n",
    "\t\t\tarray of average word vector in shape (len(docs),)\n",
    "\t\t\"\"\"\n",
    "\t\treturn np.vstack([self.word_average(sent) for sent in docs])"
   ]
  },
  {
   "cell_type": "code",
   "execution_count": 10,
   "metadata": {},
   "outputs": [
    {
     "name": "stdout",
     "output_type": "stream",
     "text": [
      "Successfully loaded model\n"
     ]
    }
   ],
   "source": [
    "# encode document by averaging word embeddings\n",
    "\n",
    "# load model \n",
    "loaded_model = Word2Vec.load('models/model_cbow_categorykeywords.bin')\n",
    "if loaded_model:\n",
    "    print(\"Successfully loaded model\")\n",
    "\n",
    "mean_vec_tr = MeanEmbeddingVectorizer(loaded_model)\n",
    "doc_vec = mean_vec_tr.transform(ingreds)"
   ]
  }
 ],
 "metadata": {
  "kernelspec": {
   "display_name": "base",
   "language": "python",
   "name": "python3"
  },
  "language_info": {
   "codemirror_mode": {
    "name": "ipython",
    "version": 3
   },
   "file_extension": ".py",
   "mimetype": "text/x-python",
   "name": "python",
   "nbconvert_exporter": "python",
   "pygments_lexer": "ipython3",
   "version": "3.9.13"
  },
  "orig_nbformat": 4
 },
 "nbformat": 4,
 "nbformat_minor": 2
}
